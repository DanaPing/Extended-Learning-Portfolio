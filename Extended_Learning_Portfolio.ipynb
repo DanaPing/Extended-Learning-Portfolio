{
  "nbformat": 4,
  "nbformat_minor": 0,
  "metadata": {
    "colab": {
      "name": "Extended Learning Portfolio.ipynb",
      "provenance": [],
      "collapsed_sections": [
        "J45Y5w6js_R9",
        "sr3iWV4tl4uE",
        "5WlkM3-ytQqK"
      ],
      "authorship_tag": "ABX9TyOBNWb+4pH+3UrjZNioZPfG",
      "include_colab_link": true
    },
    "kernelspec": {
      "name": "python3",
      "display_name": "Python 3"
    },
    "language_info": {
      "name": "python"
    }
  },
  "cells": [
    {
      "cell_type": "markdown",
      "metadata": {
        "id": "view-in-github",
        "colab_type": "text"
      },
      "source": [
        "<a href=\"https://colab.research.google.com/github/DanaPing/Extended-Learning-Portfolio/blob/main/Extended_Learning_Portfolio.ipynb\" target=\"_parent\"><img src=\"https://colab.research.google.com/assets/colab-badge.svg\" alt=\"Open In Colab\"/></a>"
      ]
    },
    {
      "cell_type": "markdown",
      "metadata": {
        "id": "i_F48tidtncJ"
      },
      "source": [
        "\n",
        "## EXTENDED LEARNING PORTFOLIO\n",
        "Semester 2 2021\n",
        "\n",
        "ISYS5002 Introduction to Programming"
      ]
    },
    {
      "cell_type": "markdown",
      "metadata": {
        "id": "J45Y5w6js_R9"
      },
      "source": [
        "#2. Add Comment\n",
        "A comment is an explanation or annotation in the source code of a computer program.\n",
        "Well commented functions are helpful to other programmers to understand the code\n",
        "better. The following function has no comments. Add some comments that explain the\n",
        "purpose and actions of the code in the following method.\n"
      ]
    },
    {
      "cell_type": "code",
      "metadata": {
        "id": "fG8t0KiMtFiK"
      },
      "source": [
        "def get_url(search_term, template):#call module by defining two parameters 'search_term', and 'template'\n",
        " search_term = search_term.replace(' ', '+')#replace ' ' in defined search_term with '+'\n",
        " url = template.format(search_term)#add value of search_term into defined template where has '{}'\n",
        " url += '&page={}'#add '&page={}' after the original url, which is the template with search_term added in '{}'\n",
        " return url #return the updated url when the module is called. "
      ],
      "execution_count": 14,
      "outputs": []
    },
    {
      "cell_type": "markdown",
      "metadata": {
        "id": "sr3iWV4tl4uE"
      },
      "source": [
        "# 3. Identify Error\n",
        "In computer programming there are three kinds of errors: syntax errors, runtime errors,\n",
        "and logic errors. The code fragment below is meant to calculate a car’s fuel economy after\n",
        "reading in the distance travelled and amount of petrol used. The fuel economy is\n",
        "calculated by the following formula: kmPerLitre = kilometers / litres. The code fragment\n",
        "contains both syntax and logic errors. Identify and correct at least five errors in the\n",
        "following code. \n"
      ]
    },
    {
      "cell_type": "code",
      "metadata": {
        "colab": {
          "base_uri": "https://localhost:8080/"
        },
        "id": "Z0RM0H2YmBnD",
        "outputId": "fd2ad104-93f5-4390-8e69-6faa24db107f"
      },
      "source": [
        "def efficiency(dist, gas): #syntax error, missing ':'\n",
        " return dist/gas\n",
        "km = int(input (\"How far did your car travel? (In kilometers?)\" )) #syntax error, missing '\"', type error, km has to be integer, add int(input function)before input(prompt) to convert string to int\n",
        "liters = int(input (\"How much gas did you use? (In liters)\") ) #syntax error, missing ')', type error, km has to be integer, add int(input function)before input(prompt) to convert string to int\n",
        "MPG = efficiency(km, liters) # name error, there is no 'dist_traveled', 'Liters' variables. The 'dist_traveled' should be 'km', and 'Liters' should be 'liters'. \n",
        "print (MPG) # syntax error, print function works with parenthesis '(object)'."
      ],
      "execution_count": 15,
      "outputs": [
        {
          "output_type": "stream",
          "name": "stdout",
          "text": [
            "How far did your car travel? (In kilometers?)69\n",
            "How much gas did you use? (In liters)3\n",
            "23.0\n"
          ]
        }
      ]
    },
    {
      "cell_type": "markdown",
      "metadata": {
        "id": "5WlkM3-ytQqK"
      },
      "source": [
        "#4. Read and Caculate Sales.csv\n",
        "Write a program the reads in sales.csv and calculates the maximum, minimum and average\n",
        "profit for each country in the Australia and Oceania region. For each country in the\n",
        "Australia and Oceania region the plot their total profit. (Hint: read the CSV into a Pandas\n",
        "dataframe, create a new dataframe for the region, and use the new dataframe for the\n",
        "calculations and bar chart)"
      ]
    },
    {
      "cell_type": "code",
      "metadata": {
        "colab": {
          "base_uri": "https://localhost:8080/",
          "height": 388
        },
        "id": "hGCAccn9-KAS",
        "outputId": "b2df1042-f505-4c50-e99c-f08edae45fd5"
      },
      "source": [
        "#Read csv file, and display Oceania countries and their profit\n",
        "import csv\n",
        "import pandas as pd\n",
        "sale_file = pd.read_csv(\"/content/sales.csv\")\n",
        "Aus_Oce = sale_file.loc[sale_file[\"Region\"] == 'Australia and Oceania', [\"Country\", \"Total Profit\"]]\n",
        "Aus_Oce\n"
      ],
      "execution_count": 143,
      "outputs": [
        {
          "output_type": "execute_result",
          "data": {
            "text/html": [
              "<div>\n",
              "<style scoped>\n",
              "    .dataframe tbody tr th:only-of-type {\n",
              "        vertical-align: middle;\n",
              "    }\n",
              "\n",
              "    .dataframe tbody tr th {\n",
              "        vertical-align: top;\n",
              "    }\n",
              "\n",
              "    .dataframe thead th {\n",
              "        text-align: right;\n",
              "    }\n",
              "</style>\n",
              "<table border=\"1\" class=\"dataframe\">\n",
              "  <thead>\n",
              "    <tr style=\"text-align: right;\">\n",
              "      <th></th>\n",
              "      <th>Country</th>\n",
              "      <th>Total Profit</th>\n",
              "    </tr>\n",
              "  </thead>\n",
              "  <tbody>\n",
              "    <tr>\n",
              "      <th>0</th>\n",
              "      <td>Tuvalu</td>\n",
              "      <td>951410.50</td>\n",
              "    </tr>\n",
              "    <tr>\n",
              "      <th>5</th>\n",
              "      <td>Solomon Islands</td>\n",
              "      <td>285087.64</td>\n",
              "    </tr>\n",
              "    <tr>\n",
              "      <th>19</th>\n",
              "      <td>East Timor</td>\n",
              "      <td>337937.60</td>\n",
              "    </tr>\n",
              "    <tr>\n",
              "      <th>23</th>\n",
              "      <td>New Zealand</td>\n",
              "      <td>5270.67</td>\n",
              "    </tr>\n",
              "    <tr>\n",
              "      <th>26</th>\n",
              "      <td>Kiribati</td>\n",
              "      <td>13009.18</td>\n",
              "    </tr>\n",
              "    <tr>\n",
              "      <th>32</th>\n",
              "      <td>Australia</td>\n",
              "      <td>369155.00</td>\n",
              "    </tr>\n",
              "    <tr>\n",
              "      <th>56</th>\n",
              "      <td>Fiji</td>\n",
              "      <td>727423.20</td>\n",
              "    </tr>\n",
              "    <tr>\n",
              "      <th>60</th>\n",
              "      <td>Australia</td>\n",
              "      <td>60418.38</td>\n",
              "    </tr>\n",
              "    <tr>\n",
              "      <th>76</th>\n",
              "      <td>Federated States of Micronesia</td>\n",
              "      <td>146875.14</td>\n",
              "    </tr>\n",
              "    <tr>\n",
              "      <th>79</th>\n",
              "      <td>Samoa</td>\n",
              "      <td>1678540.98</td>\n",
              "    </tr>\n",
              "    <tr>\n",
              "      <th>91</th>\n",
              "      <td>Australia</td>\n",
              "      <td>147031.74</td>\n",
              "    </tr>\n",
              "  </tbody>\n",
              "</table>\n",
              "</div>"
            ],
            "text/plain": [
              "                           Country  Total Profit\n",
              "0                           Tuvalu     951410.50\n",
              "5                  Solomon Islands     285087.64\n",
              "19                      East Timor     337937.60\n",
              "23                     New Zealand       5270.67\n",
              "26                        Kiribati      13009.18\n",
              "32                       Australia     369155.00\n",
              "56                            Fiji     727423.20\n",
              "60                       Australia      60418.38\n",
              "76  Federated States of Micronesia     146875.14\n",
              "79                          Samoa     1678540.98\n",
              "91                       Australia     147031.74"
            ]
          },
          "metadata": {},
          "execution_count": 143
        }
      ]
    },
    {
      "cell_type": "code",
      "metadata": {
        "colab": {
          "base_uri": "https://localhost:8080/"
        },
        "id": "uqwPwDfFKELp",
        "outputId": "869eda39-2917-4486-c02c-e41f68854628"
      },
      "source": [
        "#Caculate minmum, maxmum, average of profit\n",
        "min_profit = min(Aus_Oce[\"Total Profit\"])\n",
        "min_country = Aus_Oce.loc[Aus_Oce[\"Total Profit\"] == min_profit, \"Country\"]\n",
        "print('minimum profit is', min_profit, 'Country is', min_country)\n",
        "max_profit = max(Aus_Oce[\"Total Profit\"])\n",
        "max_country = Aus_Oce.loc[Aus_Oce[\"Total Profit\"] == max_profit, \"Country\"]\n",
        "print('maximum profit is', max_profit, 'Country is', max_country)\n",
        "avg_profit = sum(Aus_Oce[\"Total Profit\"])//len(Aus_Oce[\"Total Profit\"])\n",
        "print('Average profit is', avg_profit)"
      ],
      "execution_count": 142,
      "outputs": [
        {
          "output_type": "stream",
          "name": "stdout",
          "text": [
            "minimum profit is 5270.67 Country is 23    New Zealand\n",
            "Name: Country, dtype: object\n",
            "maximum profit is 1678540.98 Country is 79    Samoa \n",
            "Name: Country, dtype: object\n",
            "Average profit is 429287.0\n"
          ]
        }
      ]
    },
    {
      "cell_type": "code",
      "metadata": {
        "colab": {
          "base_uri": "https://localhost:8080/",
          "height": 305
        },
        "id": "J8tyC-7CB58f",
        "outputId": "5e9a3091-d769-40d6-a734-6e91a8760369"
      },
      "source": [
        "#plot profit of each Oceania country\n",
        "import matplotlib.pyplot as plt\n",
        "import numpy as np\n",
        "country_data = Aus_Oce[\"Country\"]\n",
        "profit_data = Aus_Oce[\"Total Profit\"]\n",
        "bar_width = 0.3\n",
        "plt.subplots(figsize = (15,5))\n",
        "plt.bar(country_data, profit_data, bar_width, align = 'center', alpha = 0.4)\n",
        "plt.xlabel(\"Country\")\n",
        "plt.ylabel(\"Total Profit\")"
      ],
      "execution_count": 141,
      "outputs": [
        {
          "output_type": "execute_result",
          "data": {
            "text/plain": [
              "Text(0, 0.5, 'Total Profit')"
            ]
          },
          "metadata": {},
          "execution_count": 141
        },
        {
          "output_type": "display_data",
          "data": {
            "image/png": "[encoded data removed]",
            "text/plain": [
              "<Figure size 1080x360 with 1 Axes>"
            ]
          },
          "metadata": {
            "needs_background": "light"
          }
        }
      ]
    }
  ]
}